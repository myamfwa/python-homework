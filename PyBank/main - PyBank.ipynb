{
 "cells": [
  {
   "cell_type": "code",
   "execution_count": 146,
   "metadata": {},
   "outputs": [],
   "source": [
    "#import the pathlib and csv library\n",
    "from pathlib import Path\n",
    "import csv"
   ]
  },
  {
   "cell_type": "code",
   "execution_count": 147,
   "metadata": {},
   "outputs": [],
   "source": [
    "#set the file path\n",
    "csvpath = Path(\"budget_data.csv\")"
   ]
  },
  {
   "cell_type": "code",
   "execution_count": 148,
   "metadata": {},
   "outputs": [],
   "source": [
    "profits = []\n",
    "line_num = 0"
   ]
  },
  {
   "cell_type": "code",
   "execution_count": 149,
   "metadata": {
    "collapsed": true,
    "jupyter": {
     "outputs_hidden": true
    }
   },
   "outputs": [
    {
     "name": "stdout",
     "output_type": "stream",
     "text": [
      "<class '_io.TextIOWrapper'>\n",
      "<class '_csv.reader'>\n",
      "['Date', 'Profit/Losses'] <----HEADER\n",
      "867884\n",
      "984655\n",
      "322013\n",
      "-69417\n",
      "310503\n",
      "522857\n",
      "1033096\n",
      "604885\n",
      "-216386\n",
      "477532\n",
      "893810\n",
      "-80353\n",
      "779806\n",
      "-335203\n",
      "697845\n",
      "793163\n",
      "485070\n",
      "584122\n",
      "62729\n",
      "668179\n",
      "899906\n",
      "834719\n",
      "132003\n",
      "309978\n",
      "-755566\n",
      "1170593\n",
      "252788\n",
      "1151518\n",
      "817256\n",
      "570757\n",
      "506702\n",
      "-1022534\n",
      "475062\n",
      "779976\n",
      "144175\n",
      "542494\n",
      "359333\n",
      "321469\n",
      "67780\n",
      "471435\n",
      "565603\n",
      "872480\n",
      "789480\n",
      "999942\n",
      "-1196225\n",
      "268997\n",
      "-687986\n",
      "1150461\n",
      "682458\n",
      "617856\n",
      "824098\n",
      "581943\n",
      "132864\n",
      "448062\n",
      "689161\n",
      "800701\n",
      "1166643\n",
      "947333\n",
      "578668\n",
      "988505\n",
      "1139715\n",
      "1029471\n",
      "687533\n",
      "-524626\n",
      "158620\n",
      "87795\n",
      "423389\n",
      "840723\n",
      "568529\n",
      "332067\n",
      "989499\n",
      "778237\n",
      "650000\n",
      "-1100387\n",
      "-174946\n",
      "757143\n",
      "445709\n",
      "712961\n",
      "-1163797\n",
      "569899\n",
      "768450\n",
      "102685\n",
      "795914\n",
      "60988\n",
      "138230\n",
      "671099\n"
     ]
    }
   ],
   "source": [
    "#datatype of csv file\n",
    "\n",
    "with open (csvpath, 'r') as csvfile:\n",
    "    print(type(csvfile))\n",
    "    \n",
    "    csvreader = csv.reader(csvfile, delimiter=',')\n",
    "    print(type(csvreader))\n",
    "    \n",
    "    header = next(csvreader)\n",
    "    line_num += 1\n",
    "    print(f\"{header} <----HEADER\")\n",
    "   \n",
    "    for row in csvreader:\n",
    "        print(row[1])\n"
   ]
  },
  {
   "cell_type": "code",
   "execution_count": 204,
   "metadata": {},
   "outputs": [
    {
     "name": "stdout",
     "output_type": "stream",
     "text": [
      "Financial Analysis\n",
      "---------------------\n",
      "Total Monthts:86\n",
      "Total:$38382578\n",
      "Average Change: $-2315.12\n",
      "Greatest Increase in Profits: Feb-2012 $1926159\n",
      "Greatest Decrease in Profits: Sep-2013 $-2196167\n"
     ]
    }
   ],
   "source": [
    "file = open(\"budget_data.csv\", \"r\")\n",
    "reader = csv.reader(file)\n",
    "header = next(reader)\n",
    "\n",
    "total = 0\n",
    "increase = 0\n",
    "decrease = 0\n",
    "count = 0\n",
    "total_change = 0\n",
    "\n",
    "for row in csv.reader(file, delimiter=','):\n",
    "    total += int(row[1])\n",
    "    \n",
    "    if count > 0:\n",
    "        change = int(row[1]) - profit_loss\n",
    "        total_change += change\n",
    "        if change > increase:\n",
    "            increase = int(row[1]) - profit_loss\n",
    "            month = row[0]\n",
    "        elif change < decrease:\n",
    "            decrease = int(row[1]) - profit_loss\n",
    "            decrease_month = row[0]\n",
    "        \n",
    "    profit_loss = int(row[1])\n",
    "    count += 1\n",
    "\n",
    "avg_change = round(total_change / (Months - 1), 2)\n",
    "    \n",
    "\n",
    "print(\"Financial Analysis\")\n",
    "print(\"---------------------\")\n",
    "print(f\"Total Monthts:{Months}\")\n",
    "print(f\"Total:${total}\")\n",
    "print(f\"Average Change: ${avg_change}\")\n",
    "print(f\"Greatest Increase in Profits: {month} ${increase}\")\n",
    "print(f\"Greatest Decrease in Profits: {decrease_month} ${decrease}\")\n"
   ]
  },
  {
   "cell_type": "code",
   "execution_count": null,
   "metadata": {},
   "outputs": [],
   "source": []
  },
  {
   "cell_type": "code",
   "execution_count": 195,
   "metadata": {},
   "outputs": [],
   "source": []
  },
  {
   "cell_type": "code",
   "execution_count": null,
   "metadata": {},
   "outputs": [],
   "source": []
  }
 ],
 "metadata": {
  "kernelspec": {
   "display_name": "Python 3",
   "language": "python",
   "name": "python3"
  },
  "language_info": {
   "codemirror_mode": {
    "name": "ipython",
    "version": 3
   },
   "file_extension": ".py",
   "mimetype": "text/x-python",
   "name": "python",
   "nbconvert_exporter": "python",
   "pygments_lexer": "ipython3",
   "version": "3.7.6"
  }
 },
 "nbformat": 4,
 "nbformat_minor": 4
}
